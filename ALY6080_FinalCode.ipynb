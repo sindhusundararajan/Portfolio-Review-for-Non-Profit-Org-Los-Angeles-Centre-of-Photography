{
 "cells": [
  {
   "cell_type": "markdown",
   "id": "0997428e",
   "metadata": {},
   "source": [
    "**Attendee - Reviewer Pairing**"
   ]
  },
  {
   "cell_type": "code",
   "execution_count": 42,
   "id": "8064ca07",
   "metadata": {},
   "outputs": [],
   "source": [
    "#Importing the libraries\n",
    "import pandas as pd\n",
    "import os\n",
    "import warnings\n",
    "warnings.filterwarnings('ignore')  ## importing the required libraries for filtering out the warning messages\n",
    "\n"
   ]
  },
  {
   "cell_type": "code",
   "execution_count": 43,
   "id": "7d318cf7",
   "metadata": {},
   "outputs": [
    {
     "data": {
      "text/plain": [
       "'C:\\\\Users\\\\sindh\\\\My_Python_stuff\\\\ALY6080_Assignment'"
      ]
     },
     "execution_count": 43,
     "metadata": {},
     "output_type": "execute_result"
    }
   ],
   "source": [
    "#Finding the current working directory\n",
    "os. getcwd()"
   ]
  },
  {
   "cell_type": "code",
   "execution_count": 44,
   "id": "48b2d7b2",
   "metadata": {},
   "outputs": [
    {
     "data": {
      "text/plain": [
       "['.ipynb_checkpoints',\n",
       " 'ALY6080_FinalCode.ipynb',\n",
       " 'attendee_data_df.xlsx',\n",
       " 'attendee_reviewer_mapping.xlsx',\n",
       " 'attendee_reviewer_mapping1.xlsx',\n",
       " 'attendee_reviewer_mapping11.xlsx',\n",
       " 'attendee_reviewer_mapping12.csv',\n",
       " 'attendee_reviewer_mapping12.xlsx',\n",
       " 'EDA_1.ipynb',\n",
       " 'LACP_Attendee.xlsx',\n",
       " 'LACP_Availability_Codes.xlsx',\n",
       " 'LACP_Ranking.xlsx',\n",
       " 'LACP_Reviewer.xlsx',\n",
       " 'LACP_Reviewer_availability.xlsx',\n",
       " 'NEW 2022 LACP Exposure Weekend January 27th - 30th 2022.xlsx',\n",
       " 'result.xlsx',\n",
       " 'result1.xlsx',\n",
       " 'Times and Schedules.xlsx',\n",
       " 'Untitled.ipynb',\n",
       " 'Untitled1.ipynb',\n",
       " 'Untitled2.ipynb',\n",
       " 'Untitled3.ipynb',\n",
       " 'Untitled4.ipynb',\n",
       " 'Untitled5.ipynb',\n",
       " 'updated_availability.xlsx']"
      ]
     },
     "execution_count": 44,
     "metadata": {},
     "output_type": "execute_result"
    }
   ],
   "source": [
    "# To get a list of the files in our folder\n",
    "os.listdir()"
   ]
  },
  {
   "cell_type": "code",
   "execution_count": 45,
   "id": "9d1151be",
   "metadata": {},
   "outputs": [],
   "source": [
    "# Load the Excel data into dataframes\n",
    "attendees_df = pd.read_excel('C:\\\\Users\\\\sindh\\\\My_Python_stuff\\\\ALY6080_Assignment\\\\LACP_Attendee.xlsx', sheet_name='LACP_Attendee')\n",
    "rankings_df = pd.read_excel('C:\\\\Users\\\\sindh\\\\My_Python_stuff\\\\ALY6080_Assignment\\\\LACP_Ranking.xlsx', sheet_name='Ranking')\n",
    "reviewer_availability_df = pd.read_excel('C:\\\\Users\\\\sindh\\\\My_Python_stuff\\\\ALY6080_Assignment\\\\LACP_Reviewer_availability.xlsx', sheet_name='LACP_Reviewer_availability')\n",
    "availabilities_df = pd.read_excel('C:\\\\Users\\\\sindh\\\\My_Python_stuff\\\\ALY6080_Assignment\\\\LACP_Availability_Codes.xlsx', sheet_name='LACP_Availability_Codes')\n"
   ]
  },
  {
   "cell_type": "code",
   "execution_count": 46,
   "id": "9457d6f1",
   "metadata": {},
   "outputs": [],
   "source": [
    "# Create empty dataframes for AV1 and Other attendees\n",
    "av1_df = pd.DataFrame(columns=['Attendee Name', 'Availability ID'])\n",
    "other_df = pd.DataFrame(columns=['Attendee Name', 'Availability ID'])"
   ]
  },
  {
   "cell_type": "code",
   "execution_count": 47,
   "id": "441c9f24",
   "metadata": {},
   "outputs": [],
   "source": [
    "# Iterate over each row in the data\n",
    "for index, row in attendees_df.iterrows():\n",
    "    # Check if the availability is AV1\n",
    "    if row['Availability ID'] == 'AV1':\n",
    "        # Append the AV1 attendee to the av1_df\n",
    "        av1_df = av1_df.append({'Attendee Name': row['Attendee Name'], 'Availability ID': row['Availability ID']}, ignore_index=True)\n",
    "    else:\n",
    "        # Append the other attendee to the other_df\n",
    "        other_df = other_df.append({'Attendee Name': row['Attendee Name'], 'Availability ID': row['Availability ID']}, ignore_index=True)"
   ]
  },
  {
   "cell_type": "code",
   "execution_count": 48,
   "id": "1e6add08",
   "metadata": {},
   "outputs": [
    {
     "name": "stdout",
     "output_type": "stream",
     "text": [
      "{'annette_bealieu': 'AV1', 'annie_clock': 'AV1', 'becky_landsdown': 'AV1', 'bernard_greengrove': 'AV1', 'beth_strong': 'AV1', 'brandy_trigger': 'AV1', 'bremner_mckinstry': 'AV1', 'cheryl_nandoo': 'AV1', 'cheryl_yucca': 'AV1', 'christina_houseman': 'AV1', 'chung-ping_chow': 'AV1', 'david_highsmith': 'AV1', 'deborah_perry': 'AV1', 'diana_solas': 'AV1', 'diane_everly': 'AV1', 'don_warner': 'AV1', 'doug_kline': 'AV1', 'edward_bellows': 'AV1', 'eleonora_roster': 'AV1', 'ellen_andrews': 'AV1', 'helen_bones': 'AV1', 'holly_benedict': 'AV1', 'howard_hoffman': 'AV1', 'hugh_wilson': 'AV1', 'ivan_goldman': 'AV1', 'jacky_johanson': 'AV1', 'jan_craft': 'AV1', 'jane_cohen': 'AV1', \"jason_o'connor\": 'AV1', 'jay_roberts': 'AV1', 'jennifer_gingham': 'AV1', 'jennifer_oolong': 'AV1', 'joan_st._germain': 'AV1', 'john_varno': 'AV1', 'josh_schuba': 'AV1', 'karen_jamison': 'AV1', 'kathleen_beavor': 'AV1', 'kerry_brosnihan': 'AV1', 'krystal_bundle': 'AV1', 'lawrence_mueller': 'AV1', 'lisa_ellington': 'AV1', 'lisa_smiley': 'AV1', 'lola_walker': 'AV1', 'lori_place': 'AV1', 'lou_chapman': 'AV1', 'marcela_marshall': 'AV1', 'mark_yang': 'AV1', 'mary_kidd': 'AV1', 'matthew_jackson': 'AV1', 'matthew_morris': 'AV1', 'matthew_weeks': 'AV1', 'neil_south': 'AV1', 'owen_rocco': 'AV1', 'pam_count': 'AV1', 'pamela_cheeseworth': 'AV1', 'patricia_wiseman': 'AV1', 'paula_arnold': 'AV1', 'philip_nanjani': 'AV1', 'philip_singer': 'AV1', 'richard_small': 'AV1', 'rita_miller': 'AV1', 'robert_boston': 'AV1', 'rosalie_foerst': 'AV1', 'sean_deangelo': 'AV1', 'shelly_diamond': 'AV1', 'stephanie_ericksen': 'AV1', 'sue_degata': 'AV1', 'tanya_mcfaul': 'AV1', 'xuan_diep_ho': 'AV1', 'leslie_nicely': 'AV1', 'vicky_grand': 'AV1'}\n"
     ]
    }
   ],
   "source": [
    "# Iterate over each row in the data\n",
    "for index, row in attendees_df.iterrows():\n",
    "    # Check if the availability is AV1\n",
    "    if row['Availability ID'] == 'AV1':\n",
    "        # Update the availability ID for AV1 attendees\n",
    "        availability_ids = ['AV2', 'AV3', 'AV4', 'AV5', 'AV6', 'AV7', 'AV8']\n",
    "        # Append the updated attendee to the av1_df_updated\n",
    "        av1_df_updated = av1_df.append({'Attendee Name': row['Attendee Name'], 'Availability ID': availability_ids}, ignore_index=True)\n",
    "\n",
    "# Group the availability IDs in av1_df_updated by attendee name\n",
    "grouped_availability = av1_df_updated.groupby('Attendee Name')['Availability ID'].apply(list)\n",
    "\n",
    "# Store each attendee in a dictionary with availability IDs as values\n",
    "av1attendees_availability = {}\n",
    "for attendee, availability in grouped_availability.items():\n",
    "    av1attendees_availability[attendee.replace(\" \", \"_\").lower()] = availability[0]\n",
    "\n",
    "print(av1attendees_availability)"
   ]
  },
  {
   "cell_type": "code",
   "execution_count": 49,
   "id": "d0292d54",
   "metadata": {},
   "outputs": [
    {
     "name": "stdout",
     "output_type": "stream",
     "text": [
      "Alexa Belle array: ['AV2', 'AV4', 'AV5', 'AV6', 'AV7', 'AV8']\n",
      "Anne Coolidge array: ['AV2', 'AV3', 'AV4', 'AV5', 'AV7', 'AV8']\n",
      "Barbara Bloom array: ['AV2', 'AV3', 'AV4', 'AV6', 'AV9']\n",
      "Bridget Kahn array: ['AV3', 'AV4', 'AV5', 'AV6', 'AV7', 'AV8']\n",
      "Brooke Wallace array: ['AV4', 'AV5', 'AV6', 'AV7']\n",
      "Carl Jooles array: ['AV2', 'AV6', 'AV7', 'AV8']\n",
      "Debbie Townsend array: ['AV2', 'AV3', 'AV4', 'AV5']\n",
      "Diane Perera array: ['AV2', 'AV4', 'AV6', 'AV8']\n",
      "Douglas Fiddle array: ['AV2', 'AV3', 'AV5', 'AV7']\n",
      "Juniper Christos array: ['AV2', 'AV3', 'AV4', 'AV5', 'AV7', 'AV8']\n",
      "Karen Michaels array: ['AV2', 'AV3', 'AV4', 'AV5', 'AV6']\n",
      "Kristen Vino array: ['AV3', 'AV4', 'AV5', 'AV6', 'AV7', 'AV8']\n",
      "Laura Bolsano array: ['AV2', 'AV3', 'AV4']\n",
      "Lisa Dominguez array: ['AV2', 'AV3', 'AV4', 'AV5', 'AV6', 'AV8', 'AV9']\n",
      "Mara Mosley array: ['AV2', 'AV4', 'AV6', 'AV8', 'AV9']\n",
      "Michael Gainsley array: ['AV2', 'AV3', 'AV4', 'AV5', 'AV6', 'AV8']\n",
      "Nancy Feeble array: ['AV2', 'AV4', 'AV5', 'AV6', 'AV8']\n",
      "Pamela Dashly array: ['AV2', 'AV3', 'AV4', 'AV5', 'AV7', 'AV8']\n",
      "Rhonda Hoosier array: ['AV2', 'AV3', 'AV4', 'AV5', 'AV7', 'AV8']\n",
      "{'Alexa Belle': ['AV2', 'AV4', 'AV5', 'AV6', 'AV7', 'AV8'], 'Anne Coolidge': ['AV2', 'AV3', 'AV4', 'AV5', 'AV7', 'AV8'], 'Barbara Bloom': ['AV2', 'AV3', 'AV4', 'AV6', 'AV9'], 'Bridget Kahn': ['AV3', 'AV4', 'AV5', 'AV6', 'AV7', 'AV8'], 'Brooke Wallace': ['AV4', 'AV5', 'AV6', 'AV7'], 'Carl Jooles': ['AV2', 'AV6', 'AV7', 'AV8'], 'Debbie Townsend': ['AV2', 'AV3', 'AV4', 'AV5'], 'Diane Perera': ['AV2', 'AV4', 'AV6', 'AV8'], 'Douglas Fiddle': ['AV2', 'AV3', 'AV5', 'AV7'], 'Juniper Christos': ['AV2', 'AV3', 'AV4', 'AV5', 'AV7', 'AV8'], 'Karen Michaels': ['AV2', 'AV3', 'AV4', 'AV5', 'AV6'], 'Kristen Vino': ['AV3', 'AV4', 'AV5', 'AV6', 'AV7', 'AV8'], 'Laura Bolsano': ['AV2', 'AV3', 'AV4'], 'Lisa Dominguez': ['AV2', 'AV3', 'AV4', 'AV5', 'AV6', 'AV8', 'AV9'], 'Mara Mosley': ['AV2', 'AV4', 'AV6', 'AV8', 'AV9'], 'Michael Gainsley': ['AV2', 'AV3', 'AV4', 'AV5', 'AV6', 'AV8'], 'Nancy Feeble': ['AV2', 'AV4', 'AV5', 'AV6', 'AV8'], 'Pamela Dashly': ['AV2', 'AV3', 'AV4', 'AV5', 'AV7', 'AV8'], 'Rhonda Hoosier': ['AV2', 'AV3', 'AV4', 'AV5', 'AV7', 'AV8']}\n"
     ]
    }
   ],
   "source": [
    "from collections import defaultdict\n",
    "\n",
    "# Create a defaultdict to store the availability arrays for each attendee\n",
    "otherattendee_availability = defaultdict(list)\n",
    "\n",
    "# Iterate over each row in the other_df dataframe\n",
    "for index, row in other_df.iterrows():\n",
    "    attendee_name = row['Attendee Name']\n",
    "    availability_id = row['Availability ID']\n",
    "    availability_ids = availability_id.split(',')  # Split the availability IDs by comma\n",
    "\n",
    "    otherattendee_availability[attendee_name].extend(availability_ids)  # Add the availability IDs to the attendee's array\n",
    "\n",
    "# Print the arrays for each attendee\n",
    "#for attendee_name, availability_ids in attendee_availability.items():\n",
    "   # print(f\"{attendee_name} array: {availability_ids}\")\n",
    "    \n",
    "    otherattendee_dict = {}\n",
    "\n",
    "# Iterate over each attendee and availability IDs in attendee_availability\n",
    "for attendee_name, availability_ids in otherattendee_availability.items():\n",
    "    otherattendee_dict[attendee_name] = availability_ids\n",
    "    \n",
    "    # Iterate over each attendee and availability IDs in otherattendee_dict\n",
    "for attendee_name, availability_ids in otherattendee_dict.items():\n",
    "    print(f\"{attendee_name} array: {availability_ids}\")\n",
    "\n",
    "print(otherattendee_dict)   "
   ]
  },
  {
   "cell_type": "code",
   "execution_count": 50,
   "id": "83b53bd2",
   "metadata": {},
   "outputs": [],
   "source": [
    "\n",
    "# Create an empty dictionary to store the reviewer availability\n",
    "reviewer_availability = {}\n",
    "\n",
    "# Create an empty dictionary to store the reviewer availability\n",
    "reviewer_availability = {}\n",
    "\n",
    "# Iterate over each row in the DataFrame\n",
    "for index, row in reviewer_availability_df.iterrows():\n",
    "    reviewer_name = row['Reviewer Name']\n",
    "    availability = row['Availability ID']\n",
    "    \n",
    "    # Check if the reviewer name already exists in the dictionary\n",
    "    if reviewer_name in reviewer_availability:\n",
    "        # Check if the reviewer has already reviewed 8 attendees in the current availability\n",
    "        if len(reviewer_availability[reviewer_name][-1]) < 8:\n",
    "            reviewer_availability[reviewer_name][-1].append(availability)\n",
    "        else:\n",
    "            reviewer_availability[reviewer_name].append([availability])\n",
    "    else:\n",
    "        reviewer_availability[reviewer_name] = [[availability]]"
   ]
  },
  {
   "cell_type": "code",
   "execution_count": 51,
   "id": "b2a850e1",
   "metadata": {},
   "outputs": [],
   "source": [
    "# Filter the rankings between 1 and 40\n",
    "filtered_data = rankings_df[(rankings_df['Ranking'] >= 1) & (rankings_df['Ranking'] <= 40)]\n",
    "\n",
    "# Sort the filtered data in descending order based on the ranking\n",
    "sorted_data = filtered_data.sort_values(by='Ranking', ascending=False)\n",
    "#print(sorted_data)\n",
    "\n",
    "# Group the sorted data by attendee and store the reviewer name and ranking in separate variables\n",
    "attendee_names = []\n",
    "reviewer_names = []\n",
    "rankings = []\n",
    "\n",
    "for attendee, group in sorted_data.groupby('Attendee Name'):\n",
    "    attendee_names.append(attendee)\n",
    "    reviewer_names.append(group['Reviewer Name'].tolist())\n",
    "    rankings.append(group['Ranking'].tolist())\n",
    "\n",
    "# Store the separate variables for each attendee in a dictionary\n",
    "attendee_data = []\n",
    "\n",
    "for i in range(len(attendee_names)):\n",
    "    attendee_dict = {\n",
    "        'Attendee': attendee_names[i],\n",
    "        'Reviewer Names': reviewer_names[i],\n",
    "        'Rankings': rankings[i]\n",
    "    }\n",
    "    attendee_data.append(attendee_dict)\n",
    "    \n",
    "#Creating a df    \n",
    "attendee_data_df = pd.DataFrame(attendee_data)\n"
   ]
  },
  {
   "cell_type": "code",
   "execution_count": 52,
   "id": "d3b936c3",
   "metadata": {},
   "outputs": [
    {
     "name": "stdout",
     "output_type": "stream",
     "text": [
      "{'Alexa Belle': ['AV2', 'AV4', 'AV5', 'AV6', 'AV7', 'AV8'], 'Anne Coolidge': ['AV2', 'AV3', 'AV4', 'AV5', 'AV7', 'AV8'], 'Barbara Bloom': ['AV2', 'AV3', 'AV4', 'AV6', 'AV9'], 'Bridget Kahn': ['AV3', 'AV4', 'AV5', 'AV6', 'AV7', 'AV8'], 'Brooke Wallace': ['AV4', 'AV5', 'AV6', 'AV7'], 'Carl Jooles': ['AV2', 'AV6', 'AV7', 'AV8'], 'Debbie Townsend': ['AV2', 'AV3', 'AV4', 'AV5'], 'Diane Perera': ['AV2', 'AV4', 'AV6', 'AV8'], 'Douglas Fiddle': ['AV2', 'AV3', 'AV5', 'AV7'], 'Juniper Christos': ['AV2', 'AV3', 'AV4', 'AV5', 'AV7', 'AV8'], 'Karen Michaels': ['AV2', 'AV3', 'AV4', 'AV5', 'AV6'], 'Kristen Vino': ['AV3', 'AV4', 'AV5', 'AV6', 'AV7', 'AV8'], 'Laura Bolsano': ['AV2', 'AV3', 'AV4'], 'Lisa Dominguez': ['AV2', 'AV3', 'AV4', 'AV5', 'AV6', 'AV8', 'AV9'], 'Mara Mosley': ['AV2', 'AV4', 'AV6', 'AV8', 'AV9'], 'Michael Gainsley': ['AV2', 'AV3', 'AV4', 'AV5', 'AV6', 'AV8'], 'Nancy Feeble': ['AV2', 'AV4', 'AV5', 'AV6', 'AV8'], 'Pamela Dashly': ['AV2', 'AV3', 'AV4', 'AV5', 'AV7', 'AV8'], 'Rhonda Hoosier': ['AV2', 'AV3', 'AV4', 'AV5', 'AV7', 'AV8'], 'annette_bealieu': 'AV1', 'annie_clock': 'AV1', 'becky_landsdown': 'AV1', 'bernard_greengrove': 'AV1', 'beth_strong': 'AV1', 'brandy_trigger': 'AV1', 'bremner_mckinstry': 'AV1', 'cheryl_nandoo': 'AV1', 'cheryl_yucca': 'AV1', 'christina_houseman': 'AV1', 'chung-ping_chow': 'AV1', 'david_highsmith': 'AV1', 'deborah_perry': 'AV1', 'diana_solas': 'AV1', 'diane_everly': 'AV1', 'don_warner': 'AV1', 'doug_kline': 'AV1', 'edward_bellows': 'AV1', 'eleonora_roster': 'AV1', 'ellen_andrews': 'AV1', 'helen_bones': 'AV1', 'holly_benedict': 'AV1', 'howard_hoffman': 'AV1', 'hugh_wilson': 'AV1', 'ivan_goldman': 'AV1', 'jacky_johanson': 'AV1', 'jan_craft': 'AV1', 'jane_cohen': 'AV1', \"jason_o'connor\": 'AV1', 'jay_roberts': 'AV1', 'jennifer_gingham': 'AV1', 'jennifer_oolong': 'AV1', 'joan_st._germain': 'AV1', 'john_varno': 'AV1', 'josh_schuba': 'AV1', 'karen_jamison': 'AV1', 'kathleen_beavor': 'AV1', 'kerry_brosnihan': 'AV1', 'krystal_bundle': 'AV1', 'lawrence_mueller': 'AV1', 'leslie_nicely': 'AV1', 'lisa_ellington': 'AV1', 'lisa_smiley': 'AV1', 'lola_walker': 'AV1', 'lori_place': 'AV1', 'lou_chapman': 'AV1', 'marcela_marshall': 'AV1', 'mark_yang': 'AV1', 'mary_kidd': 'AV1', 'matthew_jackson': 'AV1', 'matthew_morris': 'AV1', 'matthew_weeks': 'AV1', 'neil_south': 'AV1', 'owen_rocco': 'AV1', 'pam_count': 'AV1', 'pamela_cheeseworth': 'AV1', 'patricia_wiseman': 'AV1', 'paula_arnold': 'AV1', 'philip_nanjani': 'AV1', 'philip_singer': 'AV1', 'richard_small': 'AV1', 'rita_miller': 'AV1', 'robert_boston': 'AV1', 'rosalie_foerst': 'AV1', 'sean_deangelo': 'AV1', 'shelly_diamond': 'AV1', 'stephanie_ericksen': 'AV1', 'sue_degata': 'AV1', 'tanya_mcfaul': 'AV1', 'vicky_grand': 'AV1', 'xuan_diep_ho': 'AV1'}\n"
     ]
    }
   ],
   "source": [
    "# Combine the dictionaries into a single dictionary\n",
    "merged_dict = {**av1attendees_availability, **otherattendee_dict}\n",
    "\n",
    "# Sort the dictionary by attendee name\n",
    "sorted_dict = dict(sorted(merged_dict.items()))\n",
    "\n",
    "print(sorted_dict)"
   ]
  },
  {
   "cell_type": "code",
   "execution_count": 53,
   "id": "34bcfc21",
   "metadata": {},
   "outputs": [],
   "source": [
    "# Create an empty list to store the final mapping data\n",
    "mapping_data = []\n",
    "\n",
    "# Iterate over each attendee\n",
    "for attendee in sorted_dict:\n",
    "    attendee_name = attendee\n",
    "    attendee_availability = sorted_dict[attendee]\n",
    "\n",
    "    # Find the highly-ranked reviewer available for the attendee\n",
    "    reviewer_found = False\n",
    "    for index, row in attendee_data_df.iterrows():\n",
    "        for reviewer in attendee_data_df.iloc[index]['Reviewer Names']:\n",
    "   \n",
    "            if reviewer in reviewer_availability:\n",
    "                reviewer_slots = reviewer_availability[reviewer]\n",
    "                for slots in reviewer_slots:\n",
    "                    if any(avail in attendee_availability for avail in slots):\n",
    "                        reviewer_name = reviewer\n",
    "                        scheduled_slot = next(avail for avail in slots if avail in attendee_availability)\n",
    "                        mapping_data.append({\n",
    "                            'Attendee Name': attendee_data_df.iloc[index]['Attendee'],\n",
    "                            'Reviewer Name': reviewer_name,\n",
    "                            'Scheduled Slot': scheduled_slot\n",
    "                        })\n",
    "                        reviewer_found = True\n",
    "                        break\n",
    "            if reviewer_found:\n",
    "                break \n",
    "                \n",
    "        if index == len(attendee_data_df):\n",
    "            break\n",
    "    # Create a DataFrame from the mapping data\n",
    "    mapping_df = pd.DataFrame(mapping_data)\n",
    "\n",
    "# Remove duplicate attendee names and their rows\n",
    "    mapping_df = mapping_df.drop_duplicates(subset=['Attendee Name'])\n",
    "\n",
    "# Save the mapping data to an Excel file\n",
    "    mapping_df.to_excel('attendee_reviewer_mapping.xlsx', index=False)\n",
    "\n"
   ]
  }
 ],
 "metadata": {
  "kernelspec": {
   "display_name": "Python 3 (ipykernel)",
   "language": "python",
   "name": "python3"
  },
  "language_info": {
   "codemirror_mode": {
    "name": "ipython",
    "version": 3
   },
   "file_extension": ".py",
   "mimetype": "text/x-python",
   "name": "python",
   "nbconvert_exporter": "python",
   "pygments_lexer": "ipython3",
   "version": "3.9.13"
  }
 },
 "nbformat": 4,
 "nbformat_minor": 5
}
